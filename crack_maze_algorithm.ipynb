{
 "cells": [
  {
   "cell_type": "code",
   "execution_count": 1,
   "metadata": {},
   "outputs": [],
   "source": [
    "import cv2\n",
    "import numpy as np\n",
    "import math\n",
    "import random\n",
    "from PIL import Image"
   ]
  },
  {
   "cell_type": "code",
   "execution_count": 2,
   "metadata": {},
   "outputs": [],
   "source": [
    "def computeline(img,points):\n",
    "    rows=img.shape[0]\n",
    "    cols=img.shape[1]\n",
    "    x1=random.randint(0,(cols-1))\n",
    "    x2=random.randint(0,(cols-1))\n",
    "    points.append([x1,0])\n",
    "    slope=(rows-1)/(x2-x1)\n",
    "    return slope,x1 "
   ]
  },
  {
   "cell_type": "code",
   "execution_count": 3,
   "metadata": {},
   "outputs": [],
   "source": [
    "def computeeucdis(arr1,arr2):\n",
    "    xdiff=arr1[0]-arr2[0]\n",
    "    ydiff=arr1[1]-arr2[1]\n",
    "    dis= pow(xdiff,2)+pow(ydiff,2)\n",
    "    return np.sqrt(dis)"
   ]
  },
  {
   "cell_type": "code",
   "execution_count": 4,
   "metadata": {},
   "outputs": [],
   "source": [
    "def changetoints(arr1,arr2):\n",
    "    x1=np.ceil(arr1[0])\n",
    "    y1=np.ceil(arr1[1])\n",
    "    x2=np.ceil(arr2[0])\n",
    "    y2=np.ceil(arr2[1])\n",
    "    p1=[int(x1), int(y1)]\n",
    "    p2=[int(x2),int(y2)]\n",
    "    return p1,p2"
   ]
  },
  {
   "cell_type": "code",
   "execution_count": 5,
   "metadata": {},
   "outputs": [],
   "source": [
    "def computepoints(img,slope,firstx,points):\n",
    "    rows=img.shape[0]\n",
    "    cols=img.shape[1]\n",
    "    for i in range(rows):     \n",
    "        point1=points[-1]\n",
    "        angle= math.pi*2* random.random()\n",
    "        sign=random.choice((-1, 1))\n",
    "        length=5 \n",
    "        x1=point1[0]      \n",
    "        y1=point1[1]\n",
    "        y2=y1+5 #abstract to size of image     \n",
    "        x2=x1+sign*length*math.cos(angle)\n",
    "        point1=[x1 ,y1]\n",
    "        point2= [x2 ,y2]\n",
    "        xval=(1/slope)*(y2)+firstx\n",
    "        linepoint=[xval, y2]\n",
    "        if (y2< rows and xval< rows and xval>0):\n",
    "            dist=computeeucdis(point2,linepoint)     \n",
    "        if (dist<20 and x2<rows and y2 < cols):         \n",
    "            points.append([x2,y2])         \n",
    "            cv2.line(img, (int(x1),int(y1)), (int(x2),int(y2)), (0,0,0),1)           \n",
    "        else:           \n",
    "            points.pop() "
   ]
  },
  {
   "cell_type": "code",
   "execution_count": 6,
   "metadata": {},
   "outputs": [],
   "source": [
    "def displayimage(img):\n",
    "    cv2.namedWindow(\"Display window\",cv2.WINDOW_NORMAL)\n",
    "    cv2.imshow(\"Display window\",img)\n",
    "    cv2.waitKey(0)  \n",
    "    cv2.destroyAllWindows() "
   ]
  },
  {
   "cell_type": "code",
   "execution_count": 10,
   "metadata": {
    "scrolled": false
   },
   "outputs": [],
   "source": [
    "image=cv2.imread('image1.jpg') #image name may change\n",
    "points=[]\n",
    "slope,x1=computeline(image,points)\n",
    "computepoints(image,slope,x1,points)\n",
    "displayimage(image)"
   ]
  }
 ],
 "metadata": {
  "kernelspec": {
   "display_name": "Python 3",
   "language": "python",
   "name": "python3"
  },
  "language_info": {
   "codemirror_mode": {
    "name": "ipython",
    "version": 3
   },
   "file_extension": ".py",
   "mimetype": "text/x-python",
   "name": "python",
   "nbconvert_exporter": "python",
   "pygments_lexer": "ipython3",
   "version": "3.7.6"
  }
 },
 "nbformat": 4,
 "nbformat_minor": 5
}
